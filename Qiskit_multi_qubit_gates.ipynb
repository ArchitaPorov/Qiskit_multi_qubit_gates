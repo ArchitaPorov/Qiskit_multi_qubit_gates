{
  "nbformat": 4,
  "nbformat_minor": 0,
  "metadata": {
    "colab": {
      "provenance": []
    },
    "kernelspec": {
      "name": "python3",
      "display_name": "Python 3"
    },
    "language_info": {
      "name": "python"
    }
  },
  "cells": [
    {
      "cell_type": "code",
      "source": [
        "!pip install qiskit qiskit-aer --upgrade"
      ],
      "metadata": {
        "id": "Mx6284lurNt1",
        "colab": {
          "base_uri": "https://localhost:8080/"
        },
        "outputId": "163eafaf-a564-41de-99d7-84b7bcbec6be"
      },
      "execution_count": 1,
      "outputs": [
        {
          "output_type": "stream",
          "name": "stdout",
          "text": [
            "Collecting qiskit\n",
            "  Downloading qiskit-2.2.1-cp39-abi3-manylinux2014_x86_64.manylinux_2_17_x86_64.whl.metadata (12 kB)\n",
            "Collecting qiskit-aer\n",
            "  Downloading qiskit_aer-0.17.2-cp312-cp312-manylinux_2_17_x86_64.manylinux2014_x86_64.whl.metadata (8.3 kB)\n",
            "Collecting rustworkx>=0.15.0 (from qiskit)\n",
            "  Downloading rustworkx-0.17.1-cp39-abi3-manylinux_2_17_x86_64.manylinux2014_x86_64.whl.metadata (10 kB)\n",
            "Requirement already satisfied: numpy<3,>=1.17 in /usr/local/lib/python3.12/dist-packages (from qiskit) (2.0.2)\n",
            "Requirement already satisfied: scipy>=1.5 in /usr/local/lib/python3.12/dist-packages (from qiskit) (1.16.2)\n",
            "Requirement already satisfied: dill>=0.3 in /usr/local/lib/python3.12/dist-packages (from qiskit) (0.3.8)\n",
            "Collecting stevedore>=3.0.0 (from qiskit)\n",
            "  Downloading stevedore-5.5.0-py3-none-any.whl.metadata (2.2 kB)\n",
            "Requirement already satisfied: typing-extensions in /usr/local/lib/python3.12/dist-packages (from qiskit) (4.15.0)\n",
            "Requirement already satisfied: psutil>=5 in /usr/local/lib/python3.12/dist-packages (from qiskit-aer) (5.9.5)\n",
            "Requirement already satisfied: python-dateutil>=2.8.0 in /usr/local/lib/python3.12/dist-packages (from qiskit-aer) (2.9.0.post0)\n",
            "Requirement already satisfied: six>=1.5 in /usr/local/lib/python3.12/dist-packages (from python-dateutil>=2.8.0->qiskit-aer) (1.17.0)\n",
            "Downloading qiskit-2.2.1-cp39-abi3-manylinux2014_x86_64.manylinux_2_17_x86_64.whl (8.0 MB)\n",
            "\u001b[2K   \u001b[90m━━━━━━━━━━━━━━━━━━━━━━━━━━━━━━━━━━━━━━━━\u001b[0m \u001b[32m8.0/8.0 MB\u001b[0m \u001b[31m47.0 MB/s\u001b[0m eta \u001b[36m0:00:00\u001b[0m\n",
            "\u001b[?25hDownloading qiskit_aer-0.17.2-cp312-cp312-manylinux_2_17_x86_64.manylinux2014_x86_64.whl (12.4 MB)\n",
            "\u001b[2K   \u001b[90m━━━━━━━━━━━━━━━━━━━━━━━━━━━━━━━━━━━━━━━━\u001b[0m \u001b[32m12.4/12.4 MB\u001b[0m \u001b[31m73.8 MB/s\u001b[0m eta \u001b[36m0:00:00\u001b[0m\n",
            "\u001b[?25hDownloading rustworkx-0.17.1-cp39-abi3-manylinux_2_17_x86_64.manylinux2014_x86_64.whl (2.2 MB)\n",
            "\u001b[2K   \u001b[90m━━━━━━━━━━━━━━━━━━━━━━━━━━━━━━━━━━━━━━━━\u001b[0m \u001b[32m2.2/2.2 MB\u001b[0m \u001b[31m45.5 MB/s\u001b[0m eta \u001b[36m0:00:00\u001b[0m\n",
            "\u001b[?25hDownloading stevedore-5.5.0-py3-none-any.whl (49 kB)\n",
            "\u001b[2K   \u001b[90m━━━━━━━━━━━━━━━━━━━━━━━━━━━━━━━━━━━━━━━━\u001b[0m \u001b[32m49.5/49.5 kB\u001b[0m \u001b[31m3.1 MB/s\u001b[0m eta \u001b[36m0:00:00\u001b[0m\n",
            "\u001b[?25hInstalling collected packages: stevedore, rustworkx, qiskit, qiskit-aer\n",
            "Successfully installed qiskit-2.2.1 qiskit-aer-0.17.2 rustworkx-0.17.1 stevedore-5.5.0\n"
          ]
        }
      ]
    },
    {
      "cell_type": "code",
      "execution_count": 2,
      "metadata": {
        "id": "VPOwLacGrCdU",
        "colab": {
          "base_uri": "https://localhost:8080/"
        },
        "outputId": "b76bea78-0d21-4fae-b5e1-bec77aae8946"
      },
      "outputs": [
        {
          "output_type": "stream",
          "name": "stdout",
          "text": [
            "Quantum Circuit:\n",
            "        ┌───┐            ░ ┌─┐   \n",
            "   q_0: ┤ H ├──■───■──X──░─┤M├───\n",
            "        └───┘┌─┴─┐ │  │  ░ └╥┘┌─┐\n",
            "   q_1: ─────┤ X ├─■──X──░──╫─┤M├\n",
            "             └───┘       ░  ║ └╥┘\n",
            "   c: 2/════════════════════╬══╬═\n",
            "                            ║  ║ \n",
            "meas: 2/════════════════════╩══╩═\n",
            "                            0  1 \n",
            "\n",
            "Measurement Counts: {'00 00': 502, '11 00': 522}\n"
          ]
        }
      ],
      "source": [
        "from qiskit import QuantumCircuit, transpile\n",
        "from qiskit_aer import AerSimulator\n",
        "\n",
        "# Initialize simulator\n",
        "sim = AerSimulator()\n",
        "\n",
        "# Create a 2-qubit circuit\n",
        "qc = QuantumCircuit(2, 2)\n",
        "\n",
        "# --- Apply multi-qubit gates ---\n",
        "qc.h(0)        # Hadamard on qubit 0\n",
        "qc.cx(0, 1)    # CNOT with control 0 and target 1\n",
        "qc.cz(0, 1)    # Controlled-Z\n",
        "qc.swap(0, 1)  # Swap qubit 0 and 1\n",
        "\n",
        "# Measure all qubits\n",
        "qc.measure_all()\n",
        "\n",
        "# Display circuit\n",
        "print(\"Quantum Circuit:\")\n",
        "print(qc.draw())\n",
        "\n",
        "# Run simulation\n",
        "compiled = transpile(qc, sim)\n",
        "result = sim.run(compiled, shots=1024).result()\n",
        "\n",
        "# Display results\n",
        "counts = result.get_counts()\n",
        "print(\"\\nMeasurement Counts:\", counts)\n"
      ]
    },
    {
      "cell_type": "code",
      "source": [
        "#Task_1 : Control/Target Variation"
      ],
      "metadata": {
        "id": "tXd5mSPPT5Tj"
      },
      "execution_count": null,
      "outputs": []
    },
    {
      "cell_type": "code",
      "source": [
        "sim = AerSimulator()\n",
        "\n",
        "qc = QuantumCircuit(2, 2)\n",
        "\n",
        "qc.h(0)\n",
        "qc.cx(1,0)     #CNOT: control=1 target=0\n",
        "qc.cz(1,0)     #CZ: control=1 target=0\n",
        "qc.swap(0, 1)\n",
        "\n",
        "qc.measure_all()\n",
        "\n",
        "print(\"Quantum Circuit:\")\n",
        "print(qc.draw())\n",
        "\n",
        "compiled = transpile(qc, sim)\n",
        "result = sim.run(compiled, shots=1024).result()\n",
        "\n",
        "counts = result.get_counts()\n",
        "print(\"\\nMeasurement Counts:\", counts)\n"
      ],
      "metadata": {
        "id": "XXSzfpG9q7hc",
        "colab": {
          "base_uri": "https://localhost:8080/"
        },
        "outputId": "7e8153fc-44bb-4520-fab6-b8cac519437c"
      },
      "execution_count": 4,
      "outputs": [
        {
          "output_type": "stream",
          "name": "stdout",
          "text": [
            "Quantum Circuit:\n",
            "        ┌───┐┌───┐       ░ ┌─┐   \n",
            "   q_0: ┤ H ├┤ X ├─■──X──░─┤M├───\n",
            "        └───┘└─┬─┘ │  │  ░ └╥┘┌─┐\n",
            "   q_1: ───────■───■──X──░──╫─┤M├\n",
            "                         ░  ║ └╥┘\n",
            "   c: 2/════════════════════╬══╬═\n",
            "                            ║  ║ \n",
            "meas: 2/════════════════════╩══╩═\n",
            "                            0  1 \n",
            "\n",
            "Measurement Counts: {'10 00': 504, '00 00': 520}\n"
          ]
        }
      ]
    },
    {
      "cell_type": "code",
      "source": [
        "'''\n",
        "The change in measurement counts occurs because swapping the control and target qubits in CNOT and CZ alters which qubit influences the other, changing the entanglement pattern and resulting output probabilities.\n",
        "'''"
      ],
      "metadata": {
        "id": "w-O0SXi0VAIr"
      },
      "execution_count": null,
      "outputs": []
    },
    {
      "cell_type": "code",
      "source": [
        "#Task_2 : Gate Removal"
      ],
      "metadata": {
        "id": "lNL42eg7UFZE"
      },
      "execution_count": null,
      "outputs": []
    },
    {
      "cell_type": "code",
      "source": [
        "sim = AerSimulator()\n",
        "\n",
        "qc = QuantumCircuit(2, 2)\n",
        "\n",
        "qc.h(0)\n",
        "qc.cx(0, 1)\n",
        "qc.cz(0, 1)\n",
        "# qc.swap(0, 1) -- removed gate\n",
        "\n",
        "qc.measure_all()\n",
        "\n",
        "print(\"Quantum Circuit:\")\n",
        "print(qc.draw())\n",
        "\n",
        "compiled = transpile(qc, sim)\n",
        "result = sim.run(compiled, shots=1024).result()\n",
        "\n",
        "counts = result.get_counts()\n",
        "print(\"\\nMeasurement Counts:\", counts)\n"
      ],
      "metadata": {
        "colab": {
          "base_uri": "https://localhost:8080/"
        },
        "id": "HPp8FX3uUIIq",
        "outputId": "c79e2717-f67e-45e3-e42e-c840bdb1c3e2"
      },
      "execution_count": 5,
      "outputs": [
        {
          "output_type": "stream",
          "name": "stdout",
          "text": [
            "Quantum Circuit:\n",
            "        ┌───┐         ░ ┌─┐   \n",
            "   q_0: ┤ H ├──■───■──░─┤M├───\n",
            "        └───┘┌─┴─┐ │  ░ └╥┘┌─┐\n",
            "   q_1: ─────┤ X ├─■──░──╫─┤M├\n",
            "             └───┘    ░  ║ └╥┘\n",
            "   c: 2/═════════════════╬══╬═\n",
            "                         ║  ║ \n",
            "meas: 2/═════════════════╩══╩═\n",
            "                         0  1 \n",
            "\n",
            "Measurement Counts: {'11 00': 519, '00 00': 505}\n"
          ]
        }
      ]
    },
    {
      "cell_type": "code",
      "source": [
        "'''\n",
        "By removing the SWAP gate, the qubits stayed in their original positions, so the measurement now directly reflects the state of each qubit after the CNOT and CZ, slightly changing the distribution compared to when the qubits were swapped.\n",
        "'''"
      ],
      "metadata": {
        "id": "aIJqEeEMVLVD"
      },
      "execution_count": null,
      "outputs": []
    },
    {
      "cell_type": "code",
      "source": [
        "#Task_3 : Add Another Hadamard"
      ],
      "metadata": {
        "id": "k8eXYfVzUIwS"
      },
      "execution_count": null,
      "outputs": []
    },
    {
      "cell_type": "code",
      "source": [
        "sim = AerSimulator()\n",
        "\n",
        "qc = QuantumCircuit(2, 2)\n",
        "\n",
        "qc.h(0)\n",
        "qc.h(1) # Adding hadamard gate to seocnd qubit\n",
        "qc.cx(0, 1)\n",
        "qc.cz(0, 1)\n",
        "qc.swap(0, 1)\n",
        "\n",
        "qc.measure_all()\n",
        "\n",
        "print(\"Quantum Circuit:\")\n",
        "print(qc.draw())\n",
        "\n",
        "compiled = transpile(qc, sim)\n",
        "result = sim.run(compiled, shots=1024).result()\n",
        "\n",
        "counts = result.get_counts()\n",
        "print(\"\\nMeasurement Counts:\", counts)\n"
      ],
      "metadata": {
        "colab": {
          "base_uri": "https://localhost:8080/"
        },
        "id": "Gfubmy79UMiI",
        "outputId": "e64ce980-0618-472b-c73b-a7ca8a1bb5f2"
      },
      "execution_count": 7,
      "outputs": [
        {
          "output_type": "stream",
          "name": "stdout",
          "text": [
            "Quantum Circuit:\n",
            "        ┌───┐            ░ ┌─┐   \n",
            "   q_0: ┤ H ├──■───■──X──░─┤M├───\n",
            "        ├───┤┌─┴─┐ │  │  ░ └╥┘┌─┐\n",
            "   q_1: ┤ H ├┤ X ├─■──X──░──╫─┤M├\n",
            "        └───┘└───┘       ░  ║ └╥┘\n",
            "   c: 2/════════════════════╬══╬═\n",
            "                            ║  ║ \n",
            "meas: 2/════════════════════╩══╩═\n",
            "                            0  1 \n",
            "\n",
            "Measurement Counts: {'00 00': 256, '01 00': 271, '11 00': 241, '10 00': 256}\n"
          ]
        }
      ]
    },
    {
      "cell_type": "code",
      "source": [
        "'''\n",
        "Adding a Hadamard on qubit 1 spreads the probabilities evenly across all four states, whereas the original, swapped, or SWAP-removed circuits mostly produced two dominant outcomes due to limited entanglement.\n",
        "'''"
      ],
      "metadata": {
        "id": "yliJKHhnVb7J"
      },
      "execution_count": null,
      "outputs": []
    }
  ]
}